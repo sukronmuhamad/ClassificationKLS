{
 "cells": [
  {
   "cell_type": "code",
   "execution_count": 1,
   "id": "ac14b551",
   "metadata": {},
   "outputs": [],
   "source": [
    "import pandas as pd\n",
    "import numpy as np\n",
    "from sklearn.tree import DecisionTreeClassifier\n",
    "from sklearn.model_selection import StratifiedKFold, GridSearchCV\n",
    "from sklearn.metrics import accuracy_score, precision_score, recall_score, f1_score"
   ]
  },
  {
   "cell_type": "code",
   "execution_count": 2,
   "id": "11184c2d",
   "metadata": {},
   "outputs": [],
   "source": [
    "# === 1. Load Dataset ===\n",
    "df = pd.read_csv('datasetbaru.csv', delimiter=';')\n"
   ]
  },
  {
   "cell_type": "code",
   "execution_count": 3,
   "id": "f5372f6f",
   "metadata": {},
   "outputs": [],
   "source": [
    "# === 2. Feature Engineering ===\n",
    "df['AC-CE'] = df['AC'] - df['CE']\n",
    "df['AE-RO'] = df['AE'] - df['RO']\n",
    "np.random.seed(42)\n",
    "df['Noise'] = np.random.normal(0, 1, size=len(df))"
   ]
  },
  {
   "cell_type": "code",
   "execution_count": 4,
   "id": "f869bc47",
   "metadata": {},
   "outputs": [],
   "source": [
    "# === 3. Fitur & Label ===\n",
    "X = df[['AC-CE', 'AE-RO', 'Noise']]\n",
    "y = df['Learning_Style']"
   ]
  },
  {
   "cell_type": "code",
   "execution_count": 5,
   "id": "064f9dd7",
   "metadata": {},
   "outputs": [
    {
     "name": "stdout",
     "output_type": "stream",
     "text": [
      "🔍 Grid Search: C4.5 (Decision Tree - Entropy)\n",
      "✅ Best Params C4.5: {'criterion': 'entropy', 'max_depth': 3, 'min_samples_leaf': 5, 'min_samples_split': 10}\n"
     ]
    }
   ],
   "source": [
    "# === 4. Grid Search untuk C4.5 ===\n",
    "param_grid_dt = {\n",
    "    'criterion': ['entropy'],\n",
    "    'max_depth': [2, 3],                # Batasi kedalaman\n",
    "    'min_samples_split': [10, 20],      # Split besar supaya tidak overfit\n",
    "    'min_samples_leaf': [5, 10]\n",
    "}\n",
    "print(\"🔍 Grid Search: C4.5 (Decision Tree - Entropy)\")\n",
    "gs_dt = GridSearchCV(\n",
    "    DecisionTreeClassifier(random_state=42),\n",
    "    param_grid=param_grid_dt,\n",
    "    cv=5,\n",
    "    scoring='accuracy',\n",
    "    n_jobs=-1\n",
    ")\n",
    "gs_dt.fit(X, y)\n",
    "print(\"✅ Best Params C4.5:\", gs_dt.best_params_)"
   ]
  },
  {
   "cell_type": "code",
   "execution_count": 6,
   "id": "11e2d2d8",
   "metadata": {},
   "outputs": [
    {
     "name": "stdout",
     "output_type": "stream",
     "text": [
      "\n",
      "📊 Evaluasi Model: C4.5 Decision Tree\n",
      "Accuracy : 0.8757\n",
      "Precision: 0.8939\n",
      "Recall   : 0.8757\n",
      "F1-Score : 0.8656\n"
     ]
    }
   ],
   "source": [
    "# === 5. Evaluasi Model Terbaik dengan Stratified K-Fold ===\n",
    "skf = StratifiedKFold(n_splits=5, shuffle=True, random_state=42)\n",
    "\n",
    "acc, prec, rec, f1 = [], [], [], []\n",
    "\n",
    "for train_idx, test_idx in skf.split(X, y):\n",
    "    X_train, X_test = X.iloc[train_idx], X.iloc[test_idx]\n",
    "    y_train, y_test = y.iloc[train_idx], y.iloc[test_idx]\n",
    "\n",
    "    gs_dt.best_estimator_.fit(X_train, y_train)\n",
    "    y_pred = gs_dt.best_estimator_.predict(X_test)\n",
    "\n",
    "    acc.append(accuracy_score(y_test, y_pred))\n",
    "    prec.append(precision_score(y_test, y_pred, average='weighted', zero_division=0))\n",
    "    rec.append(recall_score(y_test, y_pred, average='weighted', zero_division=0))\n",
    "    f1.append(f1_score(y_test, y_pred, average='weighted', zero_division=0))\n",
    "\n",
    "print(\"\\n📊 Evaluasi Model: C4.5 Decision Tree\")\n",
    "print(f\"Accuracy : {np.mean(acc):.4f}\")\n",
    "print(f\"Precision: {np.mean(prec):.4f}\")\n",
    "print(f\"Recall   : {np.mean(rec):.4f}\")\n",
    "print(f\"F1-Score : {np.mean(f1):.4f}\")"
   ]
  }
 ],
 "metadata": {
  "kernelspec": {
   "display_name": "Python 3",
   "language": "python",
   "name": "python3"
  },
  "language_info": {
   "codemirror_mode": {
    "name": "ipython",
    "version": 3
   },
   "file_extension": ".py",
   "mimetype": "text/x-python",
   "name": "python",
   "nbconvert_exporter": "python",
   "pygments_lexer": "ipython3",
   "version": "3.13.2"
  }
 },
 "nbformat": 4,
 "nbformat_minor": 5
}
