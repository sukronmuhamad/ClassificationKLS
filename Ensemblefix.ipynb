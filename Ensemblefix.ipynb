{
 "cells": [
  {
   "cell_type": "code",
   "execution_count": 32,
   "id": "2736f0a7",
   "metadata": {},
   "outputs": [],
   "source": [
    "import pandas as pd\n",
    "import numpy as np\n",
    "import joblib\n",
    "import os\n",
    "\n",
    "from sklearn.ensemble import RandomForestClassifier, GradientBoostingClassifier\n",
    "from sklearn.model_selection import StratifiedKFold, GridSearchCV\n",
    "from sklearn.metrics import accuracy_score, precision_score, recall_score, f1_score"
   ]
  },
  {
   "cell_type": "code",
   "execution_count": 33,
   "id": "dc8d558b",
   "metadata": {},
   "outputs": [],
   "source": [
    "# === 1. Load Dataset ===\n",
    "df = pd.read_csv('datasetbaru.csv', delimiter=';')"
   ]
  },
  {
   "cell_type": "code",
   "execution_count": 34,
   "id": "df0c934e",
   "metadata": {},
   "outputs": [],
   "source": [
    "# === 2. Feature Engineering ===\n",
    "df['AC-CE'] = df['AC'] - df['CE']\n",
    "df['AE-RO'] = df['AE'] - df['RO']\n",
    "np.random.seed(42)\n",
    "df['Noise'] = np.random.normal(0, 1, size=len(df))\n",
    "\n",
    "X = df[['AC-CE', 'AE-RO', 'Noise']]\n",
    "y = df['Learning_Style']"
   ]
  },
  {
   "cell_type": "code",
   "execution_count": 35,
   "id": "92a2f405",
   "metadata": {},
   "outputs": [
    {
     "name": "stdout",
     "output_type": "stream",
     "text": [
      "🔍 Grid Search: Random Forest\n",
      "✅ Best Params RF: {'max_depth': 5, 'min_samples_split': 5, 'n_estimators': 50}\n"
     ]
    }
   ],
   "source": [
    "# === 3. Grid Search: Random Forest ===\n",
    "param_grid_rf = {\n",
    "    'n_estimators': [50, 100],\n",
    "    'max_depth': [None, 5, 10],\n",
    "    'min_samples_split': [2, 5]\n",
    "}\n",
    "\n",
    "print(\"🔍 Grid Search: Random Forest\")\n",
    "gs_rf = GridSearchCV(RandomForestClassifier(random_state=42), param_grid_rf, cv=5, scoring='accuracy', n_jobs=-1)\n",
    "gs_rf.fit(X, y)\n",
    "print(\"✅ Best Params RF:\", gs_rf.best_params_)"
   ]
  },
  {
   "cell_type": "code",
   "execution_count": 36,
   "id": "46396d01",
   "metadata": {},
   "outputs": [
    {
     "name": "stdout",
     "output_type": "stream",
     "text": [
      "\n",
      "🔍 Grid Search: Gradient Boosting\n",
      "✅ Best Params GB: {'learning_rate': 0.05, 'max_depth': 3, 'n_estimators': 50}\n"
     ]
    }
   ],
   "source": [
    "# === 4. Grid Search: Gradient Boosting ===\n",
    "param_grid_gb = {\n",
    "    'n_estimators': [50, 100],\n",
    "    'learning_rate': [0.05, 0.1],\n",
    "    'max_depth': [3, 5]\n",
    "}\n",
    "\n",
    "print(\"\\n🔍 Grid Search: Gradient Boosting\")\n",
    "gs_gb = GridSearchCV(GradientBoostingClassifier(random_state=42), param_grid_gb, cv=5, scoring='accuracy', n_jobs=-1)\n",
    "gs_gb.fit(X, y)\n",
    "print(\"✅ Best Params GB:\", gs_gb.best_params_)"
   ]
  },
  {
   "cell_type": "code",
   "execution_count": 37,
   "id": "e1437bc9",
   "metadata": {},
   "outputs": [
    {
     "name": "stdout",
     "output_type": "stream",
     "text": [
      "\n",
      "📊 Evaluasi Model: Random Forest\n",
      "Accuracy : 0.9475\n",
      "Precision: 0.9527\n",
      "Recall   : 0.9475\n",
      "F1-Score : 0.9461\n",
      "\n",
      "📊 Evaluasi Model: Gradient Boosting\n",
      "Accuracy : 0.9477\n",
      "Precision: 0.9580\n",
      "Recall   : 0.9477\n",
      "F1-Score : 0.9471\n"
     ]
    }
   ],
   "source": [
    "# === 5. Evaluasi Model ===\n",
    "models = {\n",
    "    \"Random Forest\": gs_rf.best_estimator_,\n",
    "    \"Gradient Boosting\": gs_gb.best_estimator_\n",
    "}\n",
    "\n",
    "skf = StratifiedKFold(n_splits=5, shuffle=True, random_state=42)\n",
    "\n",
    "for name, model in models.items():\n",
    "    acc, prec, rec, f1 = [], [], [], []\n",
    "\n",
    "    for train_idx, test_idx in skf.split(X, y):\n",
    "        X_train, X_test = X.iloc[train_idx], X.iloc[test_idx]\n",
    "        y_train, y_test = y.iloc[train_idx], y.iloc[test_idx]\n",
    "\n",
    "        model.fit(X_train, y_train)\n",
    "        y_pred = model.predict(X_test)\n",
    "\n",
    "        acc.append(accuracy_score(y_test, y_pred))\n",
    "        prec.append(precision_score(y_test, y_pred, average='weighted', zero_division=0))\n",
    "        rec.append(recall_score(y_test, y_pred, average='weighted', zero_division=0))\n",
    "        f1.append(f1_score(y_test, y_pred, average='weighted', zero_division=0))\n",
    "\n",
    "    print(f\"\\n📊 Evaluasi Model: {name}\")\n",
    "    print(f\"Accuracy : {np.mean(acc):.4f}\")\n",
    "    print(f\"Precision: {np.mean(prec):.4f}\")\n",
    "    print(f\"Recall   : {np.mean(rec):.4f}\")\n",
    "    print(f\"F1-Score : {np.mean(f1):.4f}\")"
   ]
  },
  {
   "cell_type": "code",
   "execution_count": 38,
   "id": "ac127a23",
   "metadata": {},
   "outputs": [
    {
     "name": "stdout",
     "output_type": "stream",
     "text": [
      "\n",
      "💾 Model Random Forest berhasil disimpan di models/model_rf.pkl\n"
     ]
    }
   ],
   "source": [
    "# === 6. Simpan Model Random Forest ke .pkl ===\n",
    "output_dir = 'models'\n",
    "os.makedirs(output_dir, exist_ok=True)\n",
    "\n",
    "joblib.dump(gs_rf.best_estimator_, f'{output_dir}/model_rf.pkl')\n",
    "print(f\"\\n💾 Model Random Forest berhasil disimpan di {output_dir}/model_rf.pkl\")"
   ]
  }
 ],
 "metadata": {
  "kernelspec": {
   "display_name": "Python 3",
   "language": "python",
   "name": "python3"
  },
  "language_info": {
   "codemirror_mode": {
    "name": "ipython",
    "version": 3
   },
   "file_extension": ".py",
   "mimetype": "text/x-python",
   "name": "python",
   "nbconvert_exporter": "python",
   "pygments_lexer": "ipython3",
   "version": "3.13.2"
  }
 },
 "nbformat": 4,
 "nbformat_minor": 5
}
